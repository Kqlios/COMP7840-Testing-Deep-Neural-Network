{
 "cells": [
  {
   "cell_type": "markdown",
   "metadata": {},
   "source": [
    "# Testing VGG16\n",
    "A tutorial to test LeNet-5 using ADAPT. This tutorial notebook is created with Ubuntu machine with Intel(R) i7-9700, GeForce RTX-2080, and 16GB of memory. Before start tutorial, if you use your GPU, the following cell will set tensorflow to use minimal memory."
   ]
  },
  {
   "cell_type": "code",
   "execution_count": 1,
   "metadata": {},
   "outputs": [],
   "source": [
    "import tensorflow as tf\n",
    "gpus = tf.config.experimental.list_physical_devices('GPU')\n",
    "if gpus:\n",
    "    try:\n",
    "        tf.config.experimental.set_memory_growth(gpus[0], True)\n",
    "    except RuntimeError as e:\n",
    "        print(e)"
   ]
  },
  {
   "cell_type": "markdown",
   "metadata": {},
   "source": [
    "## Load model to test\n",
    "The pre-trained VGG-19 is offered by Tensorflow/Keras. You can easily download the pre-trained model using Tensorflow/Keras."
   ]
  },
  {
   "cell_type": "code",
   "execution_count": 2,
   "metadata": {},
   "outputs": [],
   "source": [
    "# from tensorflow.keras.applications.vgg19 import VGG16\n",
    "# from tensorflow.keras.applications import ResNet50"
   ]
  },
  {
   "cell_type": "code",
   "execution_count": 3,
   "metadata": {},
   "outputs": [],
   "source": [
    "# model2 = VGG16()\n",
    "# Load the trained model\n",
    "model = tf.keras.models.load_model('my_ResNet18model.keras')\n",
    "\n",
    "# model.summary()"
   ]
  },
  {
   "cell_type": "markdown",
   "metadata": {},
   "source": [
    "## Test using ADAPT\n",
    "From now on, let's test the created model."
   ]
  },
  {
   "cell_type": "markdown",
   "metadata": {},
   "source": [
    "### 1. Choose candidate input\n",
    "This tutorial offers some example images in ```data/imagenet``` folder."
   ]
  },
  {
   "cell_type": "code",
   "execution_count": 4,
   "metadata": {},
   "outputs": [],
   "source": [
    "from pathlib import Path\n",
    "from tensorflow.keras.applications.vgg16 import preprocess_input\n",
    "from tensorflow.keras.preprocessing import image\n",
    "from tensorflow.keras.datasets import cifar10\n",
    "import matplotlib.pyplot as plt\n",
    "from datetime import datetime"
   ]
  },
  {
   "cell_type": "code",
   "execution_count": 5,
   "metadata": {},
   "outputs": [
    {
     "data": {
      "image/png": "[encoded data removed]",
      "text/plain": [
       "<Figure size 1000x200 with 5 Axes>"
      ]
     },
     "metadata": {},
     "output_type": "display_data"
    }
   ],
   "source": [
    "# Load CIFAR-10 dataset\n",
    "(x_train, y_train), (x_test, y_test) = cifar10.load_data()\n",
    "\n",
    "# Define class labels\n",
    "class_labels = ['airplane', 'automobile', 'bird', 'cat', 'deer', \n",
    "                'dog', 'frog', 'horse', 'ship', 'truck']\n",
    "\n",
    "# Select and plot a few test images\n",
    "images = x_test[210:215]\n",
    "# images = images.astype('float32') / 255.0\n",
    "labels = y_test[210:215]\n",
    "\n",
    "# Display the images\n",
    "fig, ax = plt.subplots(1, len(images), figsize=(len(images) * 2, 2))\n",
    "for i, img in enumerate(images):\n",
    "    ax[i].imshow(img)\n",
    "    ax[i].set_axis_off()\n",
    "    ax[i].set_title(class_labels[labels[i][0]])\n",
    "plt.show()"
   ]
  },
  {
   "cell_type": "markdown",
   "metadata": {},
   "source": [
    "Finally, preprocess the input using provided preprocess function."
   ]
  },
  {
   "cell_type": "markdown",
   "metadata": {},
   "source": [
    "Now our input image is ready!"
   ]
  },
  {
   "cell_type": "markdown",
   "metadata": {},
   "source": [
    "### 2. Create a fuzzer\n",
    "ADAPT offers various modules (e.g. coverage metrics and neuron selection strategies) that can be used to compose a fuzzer. First thing to do is wrapping Keras model, since all modules in ADAPT use a Keras model wrapped with the ```adapt.Network``` class."
   ]
  },
  {
   "cell_type": "code",
   "execution_count": 6,
   "metadata": {},
   "outputs": [],
   "source": [
    "from adapt import Network\n",
    "import numpy as np"
   ]
  },
  {
   "cell_type": "code",
   "execution_count": 7,
   "metadata": {},
   "outputs": [],
   "source": [
    "# model(x_test[0:2])\n",
    "# # y_test[0:2]\n"
   ]
  },
  {
   "cell_type": "code",
   "execution_count": 8,
   "metadata": {},
   "outputs": [],
   "source": [
    "from tensorflow.keras.models import Model\n",
    "# functors = Model(inputs = model.input, outputs=[l.output for l in model.layers])\n"
   ]
  },
  {
   "cell_type": "code",
   "execution_count": 9,
   "metadata": {},
   "outputs": [],
   "source": [
    "network = Network(model)"
   ]
  },
  {
   "cell_type": "code",
   "execution_count": null,
   "metadata": {},
   "outputs": [],
   "source": [
    "# neurons = []\n",
    "# for li, l in enumerate(network.layers):\n",
    "#     for ni in range(l.output.shape[-1]):\n",
    "#         neurons.append((li, ni))\n",
    "# for li, l in enumerate(network.layers):\n",
    "#     for ni in range(l.output.shape[-1]):\n",
    "#         print(\"layer: \" + str(l))\n",
    "#         print(\"layer index: \" + str(li))\n",
    "#         print(\"neuron: \" + str(ni))\n",
    "# # neurons[6728]\n",
    "\n",
    "images3 = images.astype('float32') / 255.0"
   ]
  },
  {
   "cell_type": "code",
   "execution_count": 11,
   "metadata": {},
   "outputs": [],
   "source": [
    "# neurons[15936]\n",
    "# neurons[6720]"
   ]
  },
  {
   "cell_type": "code",
   "execution_count": 12,
   "metadata": {},
   "outputs": [],
   "source": [
    "# Evaluate the model\n",
    "# from tensorflow.keras.utils import to_categorical\n",
    "# x_test = x_test.astype('float32') / 255.0\n",
    "# y_test = to_categorical(y_test, 10)\n",
    "# test_loss, test_acc = model.evaluate(x_test, y_test)\n",
    "# print(f'Test accuracy: {test_acc}')\n",
    "# x_train\n"
   ]
  },
  {
   "cell_type": "markdown",
   "metadata": {},
   "source": [
    "Create a tok-k neuron coverage with 30 as k value."
   ]
  },
  {
   "cell_type": "code",
   "execution_count": 13,
   "metadata": {},
   "outputs": [],
   "source": [
    "from adapt.metric import TKNC\n",
    "from adapt.metric import NC"
   ]
  },
  {
   "cell_type": "code",
   "execution_count": 14,
   "metadata": {},
   "outputs": [],
   "source": [
    "metric = NC(0.5)"
   ]
  },
  {
   "cell_type": "markdown",
   "metadata": {},
   "source": [
    "Create an adaptive and parameterized neuron selection strategy introduced in the following paper:\n",
    "\n",
    "    Effective White-Box Testing of Deep Neural Networks with Adaptive Neuron-Selection Strategy\n",
    "    \n",
    "Note that the selection strategies and the fuzzers are created for each indivisual input."
   ]
  },
  {
   "cell_type": "code",
   "execution_count": 15,
   "metadata": {},
   "outputs": [],
   "source": [
    "from adapt.strategy import AdaptiveParameterizedStrategy\n",
    "from adapt.fuzzer import WhiteBoxFuzzer\n",
    "from tensorflow.keras.applications.vgg19 import decode_predictions"
   ]
  },
  {
   "cell_type": "code",
   "execution_count": 16,
   "metadata": {},
   "outputs": [
    {
     "data": {
      "text/plain": [
       "2"
      ]
     },
     "execution_count": 16,
     "metadata": {},
     "output_type": "execute_result"
    }
   ],
   "source": [
    "images3 = images3[:2]\n",
    "len(images3)"
   ]
  },
  {
   "cell_type": "code",
   "execution_count": 17,
   "metadata": {},
   "outputs": [
    {
     "data": {
      "image/png": "[encoded data removed]",
      "text/plain": [
       "<Figure size 400x200 with 2 Axes>"
      ]
     },
     "metadata": {},
     "output_type": "display_data"
    }
   ],
   "source": [
    "# Display the images\n",
    "fig, ax = plt.subplots(1, len(images3), figsize=(len(images3) * 2, 2))\n",
    "for i, img in enumerate(images3):\n",
    "    ax[i].imshow(img)\n",
    "    ax[i].set_axis_off()\n",
    "    ax[i].set_title(class_labels[labels[i][0]])\n",
    "plt.show()"
   ]
  },
  {
   "cell_type": "code",
   "execution_count": 19,
   "metadata": {},
   "outputs": [],
   "source": [
    "# test my strategy\n",
    "from adapt.strategy import BayesStrategy\n",
    "\n",
    "fuzzers_bayes = []\n",
    "for image in images3:\n",
    "    strategy = BayesStrategy(network)\n",
    "    fuzzer = WhiteBoxFuzzer(network, image, metric, strategy)\n",
    "    fuzzers_bayes.append(fuzzer)"
   ]
  },
  {
   "cell_type": "code",
   "execution_count": null,
   "metadata": {},
   "outputs": [],
   "source": [
    "print('Fuzzing with Bayes strategy started at {}.'.format(datetime.now()))\n",
    "archives_bayes = [fuzzer.start(hours=12, append='min_dist') for fuzzer in fuzzers_bayes]\n",
    "print('Done')"
   ]
  },
  {
   "cell_type": "code",
   "execution_count": 17,
   "metadata": {},
   "outputs": [],
   "source": [
    "fuzzers_adapt = []\n",
    "for image in images3:\n",
    "    strategy = AdaptiveParameterizedStrategy(network)\n",
    "    fuzzer = WhiteBoxFuzzer(network, image, metric, strategy)\n",
    "    fuzzers_adapt.append(fuzzer)"
   ]
  },
  {
   "cell_type": "markdown",
   "metadata": {},
   "source": [
    "For comparision, fuzzers with random strategy, which selects neurons randomly, are used."
   ]
  },
  {
   "cell_type": "code",
   "execution_count": 18,
   "metadata": {},
   "outputs": [],
   "source": [
    "from adapt.strategy import RandomStrategy"
   ]
  },
  {
   "cell_type": "code",
   "execution_count": 19,
   "metadata": {},
   "outputs": [],
   "source": [
    "fuzzers_rand = []\n",
    "for image in images3:\n",
    "    strategy = RandomStrategy(network)\n",
    "    fuzzer = WhiteBoxFuzzer(network, image, metric, strategy)\n",
    "    fuzzers_rand.append(fuzzer)"
   ]
  },
  {
   "cell_type": "markdown",
   "metadata": {},
   "source": [
    "### 3. Start testing\n",
    "Each input is tested for 20 minutes (200 minutes in total for one strategy), and keep the generated inputs with minimum distances."
   ]
  },
  {
   "cell_type": "code",
   "execution_count": 21,
   "metadata": {},
   "outputs": [
    {
     "name": "stdout",
     "output_type": "stream",
     "text": [
      "Fuzzing with adaptive parameterized strategy started at 2024-10-12 22:19:27.247144.\n",
      "neurons: \n",
      "[(5, 96), (5, 10), (5, 6), (5, 11), (5, 94), (5, 12), (5, 13), (5, 14), (5, 95), (5, 42)]\n",
      "neurons: \n",
      "[(5, 14), (17, 160), (17, 496), (5, 54), (18, 409), (5, 11), (13, 504), (18, 496), (19, 320), (5, 49)]\n",
      "neurons: \n",
      "[(5, 100), (5, 49), (5, 13), (17, 264), (5, 42), (17, 249), (5, 85), (5, 20), (5, 81), (5, 70)]\n",
      "neurons: \n",
      "[(5, 81), (5, 33), (5, 101), (5, 96), (17, 129), (17, 54), (5, 68), (5, 125), (2, 25), (17, 249)]\n",
      "neurons: \n",
      "[(5, 54), (17, 406), (18, 406), (17, 365), (17, 362), (5, 14), (5, 125), (5, 86), (5, 0), (5, 82)]\n",
      "neurons: \n",
      "[(17, 92), (17, 449), (5, 42), (18, 449), (17, 271), (18, 507), (5, 102), (5, 49), (17, 253), (5, 96)]\n",
      "neurons: \n",
      "[(17, 392), (17, 12), (17, 92), (18, 392), (5, 49), (5, 96), (5, 68), (19, 426), (5, 76), (5, 101)]\n",
      "neurons: \n",
      "[(5, 76), (18, 282), (5, 101), (5, 19), (17, 207), (5, 54), (17, 282), (5, 63), (5, 68), (5, 11)]\n",
      "neurons: \n",
      "[(5, 49), (5, 42), (5, 96), (5, 101), (5, 63), (5, 54), (17, 282), (17, 207), (5, 11), (5, 76)]\n",
      "neurons: \n",
      "[(5, 101), (5, 68), (5, 19), (5, 96), (5, 11), (17, 96), (18, 282), (17, 282), (5, 13), (5, 48)]\n",
      "neurons: \n",
      "[(5, 48), (5, 20), (17, 282), (17, 96), (18, 282), (5, 98), (5, 13), (5, 33), (5, 54), (2, 18)]\n",
      "neurons: \n",
      "[(17, 113), (17, 184), (17, 223), (17, 282), (5, 20), (5, 70), (5, 98), (5, 13), (5, 33), (19, 147)]\n",
      "neurons: \n",
      "[(17, 184), (18, 282), (17, 282), (17, 223), (5, 98), (5, 54), (5, 33), (5, 20), (5, 0), (19, 147)]\n",
      "neurons: \n",
      "[(17, 120), (18, 394), (17, 282), (17, 394), (5, 98), (5, 33), (5, 20), (17, 223), (5, 0), (19, 147)]\n",
      "neurons: \n",
      "[(13, 390), (13, 98), (5, 86), (5, 0), (5, 23), (5, 115), (5, 70), (19, 339), (5, 123), (5, 98)]\n",
      "neurons: \n",
      "[(17, 355), (18, 355), (13, 109), (19, 339), (17, 78), (5, 86), (5, 82), (17, 223), (5, 70), (17, 85)]\n",
      "neurons: \n",
      "[(17, 2), (18, 355), (17, 190), (17, 355), (19, 339), (5, 70), (18, 445), (5, 82), (17, 445), (17, 223)]\n",
      "neurons: \n",
      "[(18, 445), (18, 355), (17, 2), (17, 355), (17, 416), (17, 223), (5, 0), (17, 445), (5, 82), (13, 350)]\n",
      "neurons: \n",
      "[(17, 110), (18, 459), (18, 445), (17, 223), (17, 266), (17, 445), (17, 459), (5, 63), (17, 472), (13, 494)]\n",
      "neurons: \n",
      "[(18, 327), (18, 311), (18, 472), (17, 472), (17, 317), (17, 311), (13, 378), (5, 63), (13, 84), (5, 0)]\n",
      "neurons: \n",
      "[(5, 23), (5, 29), (18, 378), (17, 91), (18, 292), (17, 378), (5, 76), (17, 326), (17, 292), (5, 63)]\n",
      "neurons: \n",
      "[(5, 82), (2, 18), (18, 414), (18, 508), (17, 378), (17, 91), (17, 242), (17, 414), (18, 378), (5, 76)]\n",
      "neurons: \n",
      "[(18, 398), (18, 401), (18, 360), (17, 398), (18, 359), (17, 424), (17, 359), (17, 360), (5, 76), (19, 199)]\n",
      "neurons: \n",
      "[(18, 419), (17, 76), (18, 492), (19, 310), (19, 220), (5, 50), (18, 431), (5, 76), (17, 419), (17, 431)]\n",
      "neurons: \n",
      "[(17, 76), (19, 220), (5, 76), (13, 509), (17, 390), (5, 50), (5, 48), (19, 310), (17, 373), (19, 429)]\n",
      "neurons: \n",
      "[(18, 390), (18, 373), (17, 419), (17, 424), (5, 48), (5, 50), (19, 429), (19, 220), (19, 310), (5, 76)]\n",
      "neurons: \n",
      "[(17, 373), (18, 373), (17, 401), (19, 429), (19, 220), (5, 76), (17, 231), (5, 48), (17, 424), (18, 424)]\n",
      "neurons: \n",
      "[(17, 76), (18, 390), (17, 85), (17, 424), (17, 413), (5, 76), (13, 357), (19, 220), (19, 429), (5, 29)]\n",
      "neurons: \n",
      "[(18, 390), (17, 401), (17, 187), (17, 76), (5, 76), (5, 29), (18, 424), (17, 85), (19, 220), (17, 424)]\n",
      "neurons: \n",
      "[(17, 76), (18, 424), (18, 291), (17, 187), (5, 76), (17, 291), (19, 220), (17, 390), (5, 29), (17, 424)]\n",
      "neurons: \n",
      "[(17, 76), (17, 85), (5, 76), (17, 187), (18, 390), (17, 390), (17, 401), (17, 424), (5, 29), (19, 220)]\n",
      "neurons: \n",
      "[(17, 390), (17, 91), (17, 401), (5, 76), (19, 220), (5, 29), (18, 390), (17, 424), (17, 187), (18, 424)]\n",
      "neurons: \n",
      "[(17, 85), (18, 390), (17, 187), (5, 76), (5, 29), (17, 390), (19, 220), (17, 76), (17, 91), (18, 424)]\n",
      "neurons: \n",
      "[(18, 401), (17, 390), (17, 91), (18, 390), (17, 76), (17, 187), (5, 76), (17, 85), (5, 29), (19, 220)]\n",
      "neurons: \n",
      "[(17, 85), (17, 91), (17, 187), (17, 390), (18, 390), (5, 76), (17, 76), (5, 82), (5, 29), (19, 220)]\n",
      "neurons: \n",
      "[(17, 187), (17, 390), (5, 76), (19, 220), (17, 85), (17, 91), (18, 390), (5, 29), (18, 424), (17, 401)]\n",
      "neurons: \n",
      "[(17, 390), (18, 332), (17, 424), (17, 332), (17, 76), (5, 29), (5, 27), (5, 76), (5, 115), (19, 220)]\n",
      "neurons: \n",
      "[(18, 424), (17, 91), (5, 115), (17, 76), (19, 220), (5, 50), (18, 401), (18, 390), (5, 76), (17, 187)]\n",
      "neurons: \n",
      "[(18, 424), (17, 390), (18, 390), (17, 187), (19, 220), (5, 76), (5, 115), (19, 429), (5, 123), (5, 48)]\n",
      "neurons: \n",
      "[(17, 76), (17, 390), (5, 102), (5, 50), (17, 187), (18, 390), (5, 115), (5, 123), (19, 220), (17, 91)]\n",
      "neurons: \n",
      "[(17, 91), (17, 187), (18, 401), (5, 102), (5, 29), (5, 50), (5, 123), (19, 220), (19, 429), (5, 115)]\n",
      "neurons: \n",
      "[(17, 390), (17, 91), (18, 424), (18, 390), (5, 115), (5, 102), (5, 123), (5, 50), (19, 220), (5, 48)]\n",
      "neurons: \n",
      "[(17, 76), (18, 401), (18, 390), (17, 424), (13, 82), (19, 429), (5, 73), (5, 102), (5, 123), (5, 115)]\n",
      "neurons: \n",
      "[(17, 187), (17, 458), (17, 240), (17, 246), (5, 6), (13, 508), (5, 38), (17, 300), (17, 368), (5, 73)]\n",
      "neurons: \n",
      "[(17, 130), (17, 300), (17, 240), (5, 6), (17, 368), (17, 458), (13, 369), (5, 38), (5, 73), (4, 6)]\n",
      "neurons: \n",
      "[(17, 240), (17, 312), (17, 290), (17, 368), (5, 73), (17, 458), (5, 6), (5, 10), (5, 38), (19, 429)]\n",
      "neurons: \n",
      "[(17, 27), (17, 45), (17, 312), (17, 290), (5, 10), (5, 6), (17, 240), (5, 38), (17, 137), (17, 458)]\n",
      "neurons: \n",
      "[(18, 458), (17, 130), (18, 385), (17, 312), (17, 240), (5, 38), (5, 6), (17, 290), (5, 10), (17, 458)]\n",
      "neurons: \n",
      "[(18, 458), (17, 174), (17, 106), (17, 195), (13, 346), (17, 281), (17, 458), (18, 330), (17, 27), (19, 8)]\n",
      "neurons: \n",
      "[(18, 294), (18, 397), (18, 390), (17, 281), (19, 8), (17, 303), (13, 398), (5, 23), (17, 294), (2, 18)]\n",
      "neurons: \n",
      "[(18, 281), (17, 353), (17, 76), (18, 303), (18, 294), (17, 281), (17, 303), (2, 18), (17, 294), (5, 23)]\n",
      "neurons: \n",
      "[(17, 353), (17, 410), (17, 112), (18, 294), (18, 410), (17, 281), (5, 23), (19, 8), (17, 294), (2, 18)]\n",
      "neurons: \n",
      "[(17, 102), (17, 112), (17, 58), (18, 353), (18, 390), (18, 281), (17, 294), (5, 23), (18, 294), (17, 353)]\n",
      "neurons: \n",
      "[(17, 58), (17, 112), (17, 76), (17, 452), (13, 99), (18, 452), (17, 10), (17, 294), (5, 23), (18, 281)]\n",
      "neurons: \n",
      "[(17, 5), (17, 10), (17, 84), (17, 58), (17, 112), (5, 23), (17, 216), (17, 294), (17, 390), (17, 476)]\n",
      "neurons: \n",
      "[(17, 58), (17, 84), (17, 5), (18, 390), (5, 23), (17, 237), (17, 216), (17, 476), (17, 294), (17, 281)]\n",
      "neurons: \n",
      "[(17, 84), (18, 294), (17, 390), (18, 476), (17, 216), (17, 237), (17, 58), (17, 5), (17, 476), (17, 294)]\n",
      "neurons: \n",
      "[(17, 84), (17, 58), (18, 281), (18, 476), (17, 102), (18, 294), (17, 294), (19, 8), (17, 237), (17, 216)]\n",
      "neurons: \n",
      "[(5, 5), (18, 294), (17, 29), (17, 476), (17, 58), (17, 294), (17, 102), (17, 112), (17, 216), (17, 84)]\n",
      "neurons: \n",
      "[(18, 390), (17, 84), (17, 102), (17, 29), (17, 112), (18, 294), (17, 216), (17, 294), (13, 372), (19, 8)]\n",
      "neurons: \n",
      "[(17, 102), (18, 476), (17, 58), (17, 84), (17, 216), (5, 23), (18, 294), (17, 29), (17, 294), (17, 390)]\n",
      "neurons: \n",
      "[(17, 58), (17, 426), (17, 294), (13, 372), (18, 305), (17, 122), (18, 426), (17, 112), (17, 305), (17, 216)]\n",
      "neurons: \n",
      "[(18, 476), (17, 58), (17, 122), (17, 84), (13, 372), (17, 112), (17, 216), (17, 305), (17, 294), (17, 426)]\n",
      "neurons: \n",
      "[(17, 58), (18, 305), (17, 182), (17, 102), (17, 426), (17, 216), (17, 305), (13, 372), (19, 8), (17, 294)]\n",
      "neurons: \n",
      "[(17, 58), (17, 112), (17, 84), (18, 476), (17, 426), (17, 294), (17, 305), (13, 372), (17, 216), (19, 8)]\n",
      "neurons: \n",
      "[(17, 58), (17, 112), (18, 426), (17, 294), (17, 216), (17, 147), (17, 426), (5, 23), (17, 305), (13, 372)]\n",
      "neurons: \n",
      "[(18, 294), (17, 122), (18, 476), (17, 426), (17, 216), (19, 8), (17, 294), (17, 58), (18, 426), (13, 372)]\n",
      "neurons: \n",
      "[(17, 112), (17, 476), (17, 294), (13, 372), (17, 426), (17, 84), (17, 58), (18, 294), (17, 216), (17, 182)]\n",
      "neurons: \n",
      "[(18, 305), (17, 147), (17, 216), (18, 294), (18, 426), (17, 84), (17, 294), (19, 8), (17, 426), (17, 476)]\n",
      "neurons: \n",
      "[(17, 84), (18, 305), (17, 58), (18, 476), (17, 476), (19, 8), (17, 426), (17, 216), (18, 294), (17, 294)]\n",
      "neurons: \n",
      "[(17, 84), (17, 102), (17, 147), (17, 294), (17, 426), (17, 476), (18, 305), (19, 8), (18, 294), (17, 216)]\n",
      "neurons: \n",
      "[(17, 182), (17, 5), (17, 58), (17, 122), (17, 84), (17, 294), (17, 426), (2, 18), (17, 476), (17, 216)]\n",
      "neurons: \n",
      "[(18, 294), (17, 147), (18, 426), (17, 182), (17, 216), (17, 426), (17, 294), (2, 18), (17, 476), (5, 38)]\n",
      "neurons: \n",
      "[(18, 305), (17, 182), (17, 5), (17, 426), (17, 84), (17, 58), (17, 216), (17, 294), (17, 476), (17, 112)]\n",
      "neurons: \n",
      "[(17, 112), (18, 294), (18, 305), (2, 18), (17, 294), (17, 58), (17, 426), (17, 216), (17, 5), (17, 476)]\n",
      "neurons: \n",
      "[(17, 182), (17, 122), (17, 84), (17, 426), (17, 216), (18, 426), (18, 476), (17, 294), (19, 8), (17, 102)]\n",
      "neurons: \n",
      "[(17, 84), (17, 122), (18, 294), (17, 182), (17, 147), (17, 305), (17, 426), (17, 294), (17, 476), (17, 216)]\n",
      "neurons: \n",
      "[(18, 305), (18, 426), (17, 147), (18, 294), (19, 8), (17, 294), (17, 305), (17, 426), (17, 58), (17, 216)]\n",
      "neurons: \n",
      "[(17, 182), (17, 5), (17, 58), (18, 426), (17, 216), (17, 102), (17, 147), (17, 426), (17, 84), (17, 294)]\n",
      "neurons: \n",
      "[(17, 5), (18, 361), (17, 84), (18, 294), (17, 73), (17, 216), (17, 361), (17, 58), (17, 255), (17, 294)]\n",
      "neurons: \n",
      "[(18, 434), (17, 84), (17, 58), (13, 372), (17, 444), (17, 434), (17, 216), (17, 361), (19, 8), (17, 294)]\n",
      "neurons: \n",
      "[(18, 434), (17, 59), (17, 122), (17, 255), (17, 112), (17, 434), (2, 18), (17, 216), (17, 444), (17, 294)]\n",
      "neurons: \n",
      "[(18, 504), (17, 58), (17, 112), (17, 216), (17, 255), (17, 59), (17, 434), (2, 18), (17, 444), (17, 294)]\n",
      "neurons: \n",
      "[(17, 182), (17, 444), (17, 59), (18, 504), (17, 294), (18, 294), (17, 216), (17, 255), (17, 434), (2, 18)]\n",
      "neurons: \n",
      "[(17, 112), (17, 434), (17, 58), (17, 216), (2, 18), (17, 444), (18, 444), (17, 294), (18, 504), (17, 255)]\n",
      "neurons: \n",
      "[(17, 5), (17, 182), (17, 58), (17, 157), (18, 444), (17, 255), (17, 444), (17, 216), (17, 294), (17, 434)]\n",
      "neurons: \n",
      "[(17, 122), (17, 139), (17, 44), (17, 84), (17, 444), (17, 216), (17, 255), (13, 372), (2, 18), (17, 294)]\n",
      "neurons: \n",
      "[(17, 5), (18, 294), (18, 444), (17, 139), (17, 44), (18, 361), (17, 255), (17, 294), (17, 444), (13, 364)]\n",
      "neurons: \n",
      "[(17, 44), (18, 294), (17, 58), (17, 347), (17, 294), (17, 361), (2, 18), (19, 8), (17, 444), (13, 364)]\n",
      "neurons: \n",
      "[(17, 5), (17, 347), (18, 504), (17, 58), (17, 44), (18, 444), (17, 122), (17, 294), (2, 18), (17, 444)]\n",
      "neurons: \n",
      "[(17, 44), (17, 58), (17, 347), (17, 84), (18, 504), (17, 59), (17, 294), (17, 5), (17, 444), (17, 122)]\n",
      "neurons: \n",
      "[(17, 182), (17, 178), (18, 444), (18, 361), (17, 444), (17, 58), (17, 44), (17, 294), (17, 347), (17, 112)]\n",
      "neurons: \n",
      "[(17, 347), (18, 294), (18, 444), (17, 122), (17, 72), (17, 361), (17, 44), (17, 444), (17, 294), (17, 157)]\n",
      "neurons: \n",
      "[(18, 444), (17, 58), (17, 133), (17, 72), (17, 112), (17, 444), (17, 361), (17, 294), (2, 18), (17, 122)]\n",
      "neurons: \n",
      "[(17, 183), (17, 72), (17, 15), (17, 70), (17, 44), (18, 294), (17, 361), (17, 444), (2, 18), (17, 294)]\n",
      "neurons: \n",
      "[(18, 412), (18, 444), (17, 183), (17, 112), (17, 44), (18, 347), (17, 361), (17, 346), (2, 18), (17, 444)]\n",
      "neurons: \n",
      "[(17, 15), (17, 112), (17, 347), (17, 133), (17, 44), (17, 444), (17, 361), (17, 294), (17, 122), (18, 444)]\n",
      "neurons: \n",
      "[(18, 412), (17, 44), (17, 72), (18, 346), (17, 112), (17, 15), (17, 444), (17, 133), (18, 347), (17, 294)]\n",
      "neurons: \n",
      "[(18, 444), (17, 70), (17, 72), (17, 44), (18, 346), (17, 122), (18, 412), (17, 444), (17, 294), (17, 412)]\n",
      "neurons: \n",
      "[(18, 347), (17, 183), (17, 346), (17, 347), (18, 294), (17, 44), (17, 294), (17, 15), (17, 444), (17, 361)]\n",
      "neurons: \n",
      "[(17, 44), (17, 112), (17, 412), (17, 72), (17, 122), (17, 346), (17, 294), (17, 361), (17, 444), (13, 85)]\n",
      "neurons: \n",
      "[(17, 44), (18, 346), (18, 347), (17, 70), (17, 112), (17, 412), (17, 294), (17, 444), (13, 395), (13, 85)]\n",
      "neurons: \n",
      "[(17, 157), (18, 294), (17, 72), (18, 444), (17, 70), (17, 122), (17, 133), (17, 44), (17, 444), (17, 361)]\n",
      "neurons: \n",
      "[(17, 112), (17, 70), (17, 44), (17, 182), (17, 183), (18, 347), (17, 294), (18, 412), (17, 72), (17, 444)]\n",
      "neurons: \n",
      "[(18, 444), (17, 70), (17, 72), (17, 44), (17, 346), (17, 183), (17, 112), (13, 395), (17, 122), (17, 444)]\n",
      "neurons: \n",
      "[(17, 70), (17, 112), (17, 44), (17, 72), (18, 444), (18, 347), (17, 133), (13, 395), (17, 122), (17, 444)]\n",
      "neurons: \n",
      "[(17, 70), (18, 444), (17, 346), (17, 444), (17, 133), (17, 293), (18, 412), (17, 294), (17, 183), (17, 72)]\n",
      "neurons: \n",
      "[(17, 44), (17, 444), (17, 15), (17, 133), (17, 293), (17, 294), (18, 412), (17, 346), (17, 72), (17, 347)]\n",
      "neurons: \n",
      "[(17, 15), (17, 133), (18, 346), (17, 112), (17, 44), (17, 444), (17, 346), (17, 347), (17, 412), (17, 294)]\n",
      "neurons: \n",
      "[(18, 444), (17, 346), (17, 15), (18, 412), (17, 112), (17, 72), (17, 444), (17, 70), (17, 44), (17, 133)]\n",
      "neurons: \n",
      "[(18, 444), (18, 346), (17, 444), (13, 395), (17, 72), (17, 70), (17, 44), (17, 15), (17, 294), (17, 293)]\n",
      "neurons: \n",
      "[(17, 112), (18, 294), (17, 72), (17, 15), (17, 293), (17, 133), (17, 157), (17, 444), (18, 293), (17, 294)]\n",
      "neurons: \n",
      "[(18, 412), (17, 112), (13, 395), (18, 294), (17, 444), (17, 294), (17, 72), (17, 70), (17, 44), (17, 347)]\n",
      "neurons: \n",
      "[(17, 72), (18, 347), (17, 157), (18, 346), (17, 412), (18, 444), (17, 293), (17, 444), (17, 294), (13, 395)]\n",
      "neurons: \n",
      "[(18, 294), (17, 70), (17, 15), (17, 44), (17, 112), (17, 72), (17, 293), (13, 395), (17, 294), (17, 444)]\n",
      "neurons: \n",
      "[(17, 70), (17, 44), (18, 346), (17, 15), (17, 412), (17, 72), (17, 293), (17, 444), (13, 395), (18, 347)]\n",
      "neurons: \n",
      "[(17, 412), (18, 346), (18, 412), (18, 347), (17, 72), (17, 70), (17, 44), (17, 293), (17, 294), (17, 15)]\n",
      "neurons: \n",
      "[(17, 133), (17, 347), (17, 346), (13, 395), (17, 294), (18, 293), (18, 346), (17, 70), (17, 293), (17, 72)]\n",
      "neurons: \n",
      "[(18, 377), (18, 293), (18, 405), (17, 133), (17, 112), (18, 347), (17, 72), (17, 294), (17, 44), (17, 293)]\n",
      "neurons: \n",
      "[(17, 412), (17, 112), (18, 377), (17, 44), (18, 347), (17, 294), (18, 346), (17, 293), (18, 294), (18, 412)]\n",
      "neurons: \n",
      "[(17, 70), (18, 405), (17, 72), (17, 412), (17, 293), (17, 377), (17, 347), (17, 346), (17, 268), (17, 306)]\n",
      "neurons: \n",
      "[(18, 412), (18, 293), (18, 306), (17, 44), (17, 405), (17, 293), (17, 306), (17, 339), (17, 239), (17, 268)]\n",
      "neurons: \n",
      "[(18, 377), (17, 15), (18, 306), (17, 239), (13, 91), (17, 306), (17, 293), (17, 268), (17, 238), (17, 339)]\n",
      "neurons: \n",
      "[(18, 347), (18, 306), (17, 72), (17, 268), (17, 239), (17, 293), (17, 238), (13, 91), (17, 339), (17, 306)]\n",
      "neurons: \n",
      "[(18, 377), (18, 339), (17, 239), (13, 91), (17, 238), (17, 306), (17, 268), (17, 339), (17, 44), (17, 293)]\n",
      "neurons: \n",
      "[(18, 412), (18, 377), (17, 72), (17, 44), (17, 239), (13, 91), (17, 238), (17, 293), (17, 306), (17, 268)]\n",
      "neurons: \n",
      "[(18, 293), (17, 412), (18, 347), (18, 412), (17, 306), (17, 293), (17, 268), (17, 238), (13, 91), (17, 239)]\n",
      "neurons: \n",
      "[(18, 347), (18, 306), (17, 239), (17, 268), (17, 306), (17, 238), (17, 293), (17, 339), (13, 91), (13, 85)]\n",
      "neurons: \n",
      "[(17, 412), (18, 294), (18, 293), (17, 72), (17, 306), (17, 268), (17, 239), (17, 238), (17, 44), (13, 91)]\n",
      "neurons: \n",
      "[(17, 15), (17, 198), (17, 239), (17, 238), (17, 444), (18, 339), (17, 306), (17, 268), (13, 91), (13, 395)]\n",
      "neurons: \n",
      "[(17, 60), (17, 112), (17, 239), (18, 306), (17, 238), (17, 294), (17, 293), (17, 306), (13, 91), (17, 268)]\n",
      "neurons: \n",
      "[(17, 412), (17, 60), (17, 44), (18, 306), (17, 377), (17, 238), (17, 239), (13, 91), (17, 268), (17, 306)]\n",
      "neurons: \n",
      "[(18, 306), (17, 198), (17, 44), (17, 109), (18, 412), (17, 268), (17, 238), (17, 306), (17, 239), (13, 119)]\n",
      "neurons: \n",
      "[(17, 112), (18, 306), (18, 412), (17, 60), (17, 233), (17, 238), (17, 268), (17, 306), (17, 44), (13, 119)]\n",
      "neurons: \n",
      "[(17, 60), (17, 44), (17, 412), (17, 198), (17, 112), (17, 233), (17, 226), (17, 268), (17, 238), (13, 119)]\n",
      "neurons: \n",
      "[(17, 44), (17, 112), (17, 135), (17, 198), (17, 60), (17, 412), (17, 226), (18, 498), (17, 233), (13, 119)]\n",
      "neurons: \n",
      "[(17, 112), (18, 498), (17, 198), (17, 60), (13, 119), (17, 226), (17, 44), (17, 233), (17, 412), (17, 109)]\n",
      "neurons: \n",
      "[(17, 60), (18, 498), (17, 109), (17, 198), (13, 119), (17, 412), (17, 112), (17, 135), (17, 233), (17, 226)]\n",
      "neurons: \n",
      "[(18, 498), (18, 412), (17, 112), (17, 412), (17, 109), (17, 44), (17, 135), (17, 233), (17, 226), (13, 119)]\n",
      "neurons: \n",
      "[(17, 109), (17, 60), (17, 44), (18, 412), (17, 135), (17, 226), (17, 233), (17, 412), (18, 498), (13, 119)]\n",
      "neurons: \n",
      "[(17, 112), (18, 501), (17, 44), (18, 412), (17, 60), (17, 226), (17, 313), (5, 117), (17, 233), (13, 119)]\n",
      "neurons: \n",
      "[(18, 313), (18, 501), (13, 119), (17, 313), (17, 135), (17, 233), (5, 117), (17, 260), (5, 27), (17, 226)]\n",
      "neurons: \n",
      "[(18, 412), (17, 60), (18, 418), (17, 233), (17, 260), (17, 418), (5, 117), (17, 313), (5, 27), (13, 119)]\n",
      "neurons: \n",
      "[(17, 112), (18, 412), (17, 44), (18, 418), (13, 119), (17, 60), (5, 27), (5, 117), (17, 233), (17, 418)]\n",
      "neurons: \n",
      "[(17, 44), (17, 60), (17, 198), (13, 395), (18, 498), (13, 354), (5, 27), (17, 233), (17, 412), (5, 117)]\n",
      "neurons: \n",
      "[(18, 412), (17, 112), (18, 498), (17, 233), (18, 418), (13, 119), (5, 27), (13, 85), (13, 354), (5, 117)]\n",
      "neurons: \n",
      "[(17, 112), (17, 44), (17, 293), (17, 233), (17, 268), (13, 354), (5, 117), (5, 27), (19, 424), (13, 85)]\n",
      "neurons: \n",
      "[(17, 44), (18, 412), (17, 198), (17, 60), (17, 313), (13, 354), (19, 424), (5, 117), (5, 27), (17, 233)]\n",
      "neurons: \n",
      "[(17, 112), (17, 412), (18, 412), (5, 117), (13, 354), (17, 411), (17, 233), (18, 498), (5, 27), (19, 424)]\n",
      "neurons: \n",
      "[(17, 412), (18, 411), (18, 498), (17, 411), (19, 424), (18, 412), (17, 268), (17, 233), (13, 85), (5, 27)]\n",
      "neurons: \n",
      "[(17, 44), (18, 411), (17, 412), (17, 233), (18, 412), (19, 424), (13, 354), (17, 411), (5, 27), (5, 117)]\n",
      "neurons: \n",
      "[(17, 60), (18, 411), (17, 112), (17, 44), (18, 498), (17, 293), (17, 233), (17, 294), (17, 411), (5, 27)]\n",
      "neurons: \n",
      "[(17, 112), (17, 134), (17, 93), (17, 288), (17, 446), (17, 297), (17, 411), (17, 270), (13, 395), (5, 27)]\n",
      "neurons: \n",
      "[(17, 60), (18, 412), (17, 412), (17, 44), (17, 270), (17, 288), (17, 446), (17, 297), (17, 411), (5, 27)]\n",
      "neurons: \n",
      "[(17, 93), (18, 399), (18, 412), (18, 411), (17, 446), (17, 411), (17, 297), (17, 288), (5, 27), (17, 270)]\n",
      "neurons: \n",
      "[(18, 446), (18, 412), (17, 270), (17, 297), (17, 44), (17, 446), (17, 411), (17, 287), (5, 27), (17, 288)]\n",
      "neurons: \n",
      "[(18, 412), (17, 412), (17, 288), (17, 297), (17, 287), (17, 411), (2, 18), (17, 270), (17, 446), (5, 27)]\n",
      "count290\n",
      "neurons: \n",
      "[(13, 391), (13, 374), (13, 381), (13, 380), (13, 379), (13, 378), (13, 377), (13, 376), (13, 375), (13, 31)]\n",
      "neurons: \n",
      "[(13, 370), (13, 372), (13, 369), (13, 503), (13, 367), (13, 371), (13, 368), (13, 84), (13, 331), (13, 350)]\n",
      "neurons: \n",
      "[(13, 351), (13, 329), (13, 352), (13, 345), (13, 349), (13, 346), (13, 348), (19, 147), (13, 347), (13, 504)]\n",
      "neurons: \n",
      "[(13, 496), (13, 368), (13, 365), (13, 364), (13, 369), (13, 366), (13, 84), (13, 367), (13, 494), (13, 331)]\n",
      "neurons: \n",
      "[(13, 502), (13, 362), (13, 361), (13, 360), (13, 501), (13, 364), (13, 504), (19, 364), (13, 363), (13, 400)]\n",
      "neurons: \n",
      "[(13, 385), (13, 370), (13, 376), (13, 375), (13, 374), (13, 84), (13, 373), (13, 372), (13, 371), (13, 350)]\n",
      "neurons: \n",
      "[(13, 363), (13, 364), (13, 366), (13, 365), (13, 105), (13, 101), (19, 364), (13, 362), (13, 104), (13, 119)]\n",
      "neurons: \n",
      "[(13, 348), (13, 354), (13, 333), (13, 351), (13, 349), (13, 355), (13, 494), (13, 90), (13, 101), (13, 341)]\n",
      "neurons: \n",
      "[(13, 373), (13, 376), (13, 115), (13, 372), (13, 341), (13, 101), (13, 374), (13, 119), (19, 364), (13, 364)]\n",
      "neurons: \n",
      "[(13, 359), (13, 358), (13, 360), (13, 352), (13, 494), (13, 355), (13, 119), (19, 364), (13, 353), (13, 334)]\n",
      "neurons: \n",
      "[(13, 364), (13, 370), (13, 371), (13, 104), (13, 372), (13, 373), (13, 366), (13, 369), (13, 368), (13, 119)]\n",
      "neurons: \n",
      "[(13, 360), (13, 362), (13, 361), (13, 363), (13, 356), (13, 119), (13, 101), (13, 358), (13, 357), (13, 332)]\n",
      "neurons: \n",
      "[(13, 358), (13, 357), (13, 359), (13, 370), (13, 362), (13, 356), (13, 355), (13, 353), (13, 119), (13, 101)]\n",
      "neurons: \n",
      "[(13, 360), (13, 359), (13, 357), (13, 353), (13, 356), (13, 358), (13, 390), (13, 119), (13, 90), (13, 101)]\n",
      "neurons: \n",
      "[(13, 356), (13, 358), (13, 359), (13, 361), (13, 360), (13, 357), (13, 390), (13, 101), (13, 354), (13, 426)]\n",
      "neurons: \n",
      "[(13, 371), (13, 111), (13, 373), (13, 372), (13, 368), (13, 354), (13, 369), (13, 370), (13, 116), (13, 361)]\n",
      "neurons: \n",
      "[(13, 353), (13, 356), (13, 355), (13, 358), (13, 347), (13, 379), (13, 349), (13, 101), (13, 348), (13, 326)]\n",
      "neurons: \n",
      "[(13, 411), (13, 406), (13, 407), (13, 220), (13, 383), (13, 408), (13, 384), (13, 354), (13, 101), (13, 347)]\n",
      "neurons: \n",
      "[(13, 359), (13, 107), (13, 370), (13, 108), (13, 372), (13, 407), (13, 379), (13, 373), (13, 374), (13, 360)]\n",
      "neurons: \n",
      "[(13, 356), (13, 107), (13, 373), (13, 366), (13, 106), (13, 368), (13, 369), (13, 370), (13, 372), (13, 382)]\n",
      "neurons: \n",
      "[(13, 357), (13, 374), (13, 366), (13, 368), (13, 369), (13, 370), (13, 372), (13, 373), (13, 100), (13, 382)]\n",
      "neurons: \n",
      "[(13, 348), (13, 368), (13, 360), (13, 361), (13, 362), (13, 364), (13, 365), (13, 366), (13, 95), (13, 376)]\n",
      "neurons: \n",
      "[(13, 221), (13, 348), (13, 353), (13, 220), (13, 219), (13, 405), (13, 214), (13, 381), (13, 406), (13, 484)]\n",
      "neurons: \n",
      "[(13, 389), (13, 325), (13, 395), (13, 330), (13, 329), (13, 328), (13, 327), (13, 396), (13, 326), (13, 220)]\n",
      "neurons: \n",
      "[(13, 388), (13, 326), (13, 395), (13, 396), (13, 397), (13, 330), (13, 329), (13, 328), (13, 327), (13, 336)]\n",
      "neurons: \n",
      "[(13, 400), (13, 332), (13, 403), (13, 330), (13, 404), (13, 334), (13, 402), (13, 380), (13, 333), (13, 391)]\n",
      "neurons: \n",
      "[(13, 221), (13, 374), (13, 369), (13, 382), (13, 376), (13, 220), (13, 219), (13, 377), (13, 381), (13, 501)]\n",
      "neurons: \n",
      "[(13, 364), (13, 361), (13, 359), (13, 360), (13, 358), (13, 362), (13, 510), (13, 365), (13, 511), (13, 343)]\n",
      "neurons: \n",
      "[(13, 358), (13, 353), (13, 365), (13, 361), (13, 362), (13, 100), (13, 98), (13, 97), (13, 364), (13, 389)]\n",
      "neurons: \n",
      "[(13, 499), (13, 374), (13, 365), (13, 372), (13, 502), (13, 370), (13, 369), (13, 368), (13, 366), (13, 221)]\n",
      "neurons: \n",
      "[(13, 364), (13, 370), (13, 374), (13, 219), (13, 484), (13, 214), (13, 502), (13, 372), (13, 373), (13, 383)]\n",
      "neurons: \n",
      "[(13, 498), (13, 219), (13, 376), (13, 372), (13, 500), (13, 373), (13, 374), (13, 375), (13, 501), (13, 353)]\n",
      "neurons: \n",
      "[(13, 377), (13, 498), (13, 362), (13, 368), (13, 366), (13, 499), (13, 365), (13, 364), (13, 500), (13, 221)]\n",
      "neurons: \n",
      "[(13, 365), (13, 502), (13, 368), (13, 366), (13, 372), (13, 501), (13, 93), (13, 369), (13, 370), (13, 221)]\n",
      "neurons: \n",
      "[(13, 497), (13, 501), (13, 370), (13, 369), (13, 500), (13, 93), (13, 368), (13, 366), (13, 365), (13, 221)]\n",
      "neurons: \n",
      "[(13, 498), (13, 501), (13, 368), (13, 366), (13, 365), (13, 364), (13, 362), (13, 93), (13, 361), (13, 221)]\n",
      "neurons: \n",
      "[(13, 497), (13, 365), (13, 500), (13, 370), (13, 369), (13, 501), (13, 368), (13, 93), (13, 366), (13, 221)]\n",
      "neurons: \n",
      "[(13, 384), (13, 369), (13, 500), (13, 374), (13, 373), (13, 93), (13, 372), (13, 501), (13, 370), (13, 221)]\n",
      "neurons: \n",
      "[(13, 506), (13, 491), (13, 509), (13, 507), (13, 344), (13, 508), (13, 398), (13, 356), (13, 355), (13, 385)]\n",
      "neurons: \n",
      "[(13, 393), (13, 385), (13, 373), (13, 383), (13, 382), (13, 381), (13, 377), (13, 376), (13, 375), (13, 345)]\n",
      "neurons: \n",
      "[(13, 384), (13, 391), (13, 373), (13, 381), (13, 377), (13, 510), (13, 376), (13, 375), (13, 511), (13, 400)]\n",
      "neurons: \n",
      "[(13, 336), (13, 493), (13, 334), (13, 335), (13, 495), (13, 492), (13, 338), (13, 491), (13, 337), (13, 498)]\n",
      "neurons: \n",
      "[(13, 334), (13, 492), (13, 491), (13, 333), (13, 337), (13, 426), (13, 490), (13, 336), (13, 489), (13, 109)]\n",
      "neurons: \n",
      "[(13, 404), (13, 396), (13, 505), (13, 109), (13, 122), (13, 397), (13, 426), (13, 506), (13, 121), (13, 325)]\n",
      "neurons: \n",
      "[(13, 369), (13, 373), (13, 372), (13, 370), (13, 368), (13, 375), (13, 503), (13, 384), (13, 426), (13, 109)]\n",
      "neurons: \n",
      "[(13, 405), (13, 404), (13, 366), (13, 408), (13, 109), (13, 506), (13, 493), (13, 364), (13, 362), (13, 393)]\n",
      "neurons: \n",
      "[(13, 342), (13, 339), (13, 495), (13, 338), (13, 491), (13, 340), (13, 492), (13, 493), (13, 109), (13, 85)]\n",
      "neurons: \n",
      "[(13, 376), (13, 383), (13, 368), (13, 501), (13, 109), (13, 372), (13, 502), (13, 370), (13, 369), (13, 83)]\n",
      "neurons: \n",
      "[(13, 499), (13, 502), (13, 505), (13, 326), (13, 325), (13, 381), (13, 382), (13, 383), (13, 384), (13, 490)]\n",
      "neurons: \n",
      "[(13, 394), (13, 389), (13, 392), (13, 396), (13, 384), (13, 388), (13, 387), (13, 386), (13, 385), (13, 401)]\n",
      "neurons: \n",
      "[(13, 498), (13, 358), (13, 351), (13, 364), (13, 360), (13, 497), (13, 361), (13, 362), (13, 101), (13, 369)]\n",
      "neurons: \n",
      "[(13, 398), (13, 400), (13, 503), (13, 395), (13, 508), (13, 397), (13, 214), (13, 396), (13, 335), (13, 101)]\n",
      "neurons: \n",
      "[(13, 333), (13, 221), (13, 330), (13, 219), (13, 82), (13, 101), (13, 214), (13, 379), (13, 404), (13, 407)]\n",
      "neurons: \n",
      "[(13, 345), (13, 343), (13, 499), (13, 500), (13, 349), (13, 346), (13, 498), (13, 407), (13, 348), (13, 379)]\n",
      "neurons: \n",
      "[(13, 382), (13, 372), (13, 373), (13, 379), (13, 506), (13, 377), (13, 376), (13, 375), (13, 407), (13, 219)]\n",
      "neurons: \n",
      "[(13, 388), (13, 391), (13, 397), (13, 407), (13, 384), (13, 387), (13, 386), (13, 385), (13, 379), (13, 396)]\n",
      "neurons: \n",
      "[(13, 370), (13, 505), (13, 373), (13, 372), (13, 398), (13, 376), (13, 407), (13, 82), (13, 375), (13, 379)]\n",
      "neurons: \n",
      "[(13, 369), (13, 503), (13, 373), (13, 370), (13, 372), (13, 401), (13, 379), (13, 375), (13, 82), (13, 407)]\n",
      "neurons: \n",
      "[(13, 369), (13, 370), (13, 407), (13, 502), (13, 373), (13, 372), (13, 82), (13, 503), (13, 101), (13, 397)]\n",
      "neurons: \n",
      "[(13, 505), (13, 368), (13, 376), (13, 375), (13, 82), (13, 373), (13, 372), (13, 370), (13, 369), (13, 398)]\n",
      "neurons: \n",
      "[(13, 340), (13, 496), (13, 339), (13, 346), (13, 345), (13, 82), (13, 379), (13, 343), (13, 495), (13, 399)]\n",
      "neurons: \n",
      "[(13, 340), (13, 339), (13, 337), (13, 338), (13, 343), (13, 491), (13, 82), (13, 493), (13, 492), (13, 397)]\n",
      "neurons: \n",
      "[(13, 88), (13, 364), (13, 362), (13, 86), (13, 505), (13, 82), (13, 360), (13, 361), (13, 506), (13, 394)]\n",
      "neurons: \n",
      "[(13, 355), (13, 95), (13, 364), (13, 358), (13, 359), (13, 82), (13, 360), (13, 361), (13, 362), (13, 428)]\n",
      "neurons: \n",
      "[(13, 492), (13, 376), (13, 377), (13, 496), (13, 497), (13, 498), (13, 82), (13, 499), (13, 109), (13, 407)]\n",
      "neurons: \n",
      "[(13, 408), (13, 495), (13, 384), (13, 497), (13, 501), (13, 498), (13, 499), (13, 381), (13, 500), (13, 82)]\n",
      "neurons: \n",
      "[(13, 360), (13, 364), (13, 362), (13, 361), (13, 368), (13, 366), (13, 365), (13, 407), (13, 82), (13, 505)]\n",
      "neurons: \n",
      "[(13, 31), (13, 377), (13, 370), (13, 499), (13, 372), (13, 81), (13, 373), (13, 375), (13, 429), (13, 82)]\n",
      "neurons: \n",
      "[(13, 328), (13, 333), (13, 340), (13, 330), (13, 429), (13, 337), (13, 334), (13, 335), (13, 336), (13, 82)]\n",
      "neurons: \n",
      "[(13, 377), (13, 490), (13, 403), (13, 492), (13, 372), (13, 376), (13, 375), (13, 214), (13, 373), (13, 82)]\n",
      "neurons: \n",
      "[(13, 97), (13, 348), (13, 361), (13, 98), (13, 356), (13, 358), (13, 359), (13, 360), (13, 82), (13, 497)]\n",
      "neurons: \n",
      "[(13, 338), (13, 343), (13, 106), (13, 340), (13, 337), (13, 348), (13, 345), (13, 346), (13, 499), (13, 82)]\n",
      "neurons: \n",
      "[(13, 353), (13, 345), (13, 343), (13, 339), (13, 340), (13, 338), (13, 349), (13, 346), (13, 348), (13, 82)]\n",
      "neurons: \n",
      "[(13, 220), (13, 403), (13, 373), (13, 496), (13, 377), (13, 376), (13, 375), (13, 368), (13, 345), (13, 82)]\n",
      "neurons: \n",
      "[(13, 358), (13, 337), (13, 411), (13, 343), (13, 340), (13, 82), (13, 339), (13, 427), (13, 338), (13, 328)]\n",
      "neurons: \n",
      "[(13, 399), (13, 493), (13, 351), (13, 91), (13, 386), (13, 393), (13, 510), (13, 511), (13, 383), (13, 82)]\n",
      "neurons: \n",
      "[(13, 330), (13, 510), (13, 496), (13, 381), (13, 492), (13, 82), (13, 497), (13, 491), (13, 511), (13, 393)]\n",
      "neurons: \n",
      "[(13, 495), (13, 221), (13, 490), (13, 82), (13, 220), (13, 496), (13, 377), (13, 376), (13, 375), (13, 404)]\n",
      "neurons: \n",
      "[(13, 496), (13, 221), (13, 491), (13, 82), (13, 220), (13, 497), (13, 377), (13, 219), (13, 376), (13, 405)]\n",
      "neurons: \n",
      "[(13, 219), (13, 493), (13, 382), (13, 376), (13, 495), (13, 496), (13, 497), (13, 377), (13, 82), (13, 404)]\n",
      "neurons: \n",
      "[(13, 497), (13, 221), (13, 493), (13, 220), (13, 377), (13, 382), (13, 498), (13, 381), (13, 219), (13, 82)]\n",
      "neurons: \n",
      "[(13, 349), (13, 503), (13, 348), (13, 404), (13, 351), (13, 355), (13, 353), (13, 101), (13, 82), (13, 408)]\n",
      "neurons: \n",
      "[(13, 381), (13, 506), (13, 220), (13, 82), (13, 375), (13, 376), (13, 377), (13, 505), (13, 221), (13, 404)]\n",
      "neurons: \n",
      "[(13, 220), (13, 375), (13, 101), (13, 82), (13, 377), (13, 506), (13, 221), (13, 497), (13, 381), (13, 403)]\n",
      "neurons: \n",
      "[(13, 496), (13, 220), (13, 492), (13, 376), (13, 381), (13, 497), (13, 219), (13, 82), (13, 377), (13, 104)]\n",
      "neurons: \n",
      "[(13, 372), (13, 375), (13, 495), (13, 361), (13, 370), (13, 369), (13, 365), (13, 364), (13, 362), (13, 408)]\n",
      "neurons: \n",
      "[(13, 406), (13, 375), (13, 407), (13, 495), (13, 496), (13, 497), (13, 377), (13, 376), (13, 99), (13, 82)]\n",
      "neurons: \n",
      "[(13, 428), (13, 495), (13, 496), (13, 429), (13, 327), (13, 326), (13, 99), (13, 82), (13, 325), (13, 101)]\n",
      "neurons: \n",
      "[(13, 219), (13, 376), (13, 82), (13, 383), (13, 497), (13, 382), (13, 381), (13, 377), (13, 99), (13, 407)]\n",
      "neurons: \n",
      "[(13, 106), (13, 221), (13, 325), (13, 326), (13, 329), (13, 99), (13, 327), (13, 328), (13, 407), (13, 101)]\n",
      "neurons: \n",
      "[(13, 396), (13, 395), (13, 101), (13, 346), (13, 407), (13, 491), (13, 490), (13, 394), (13, 99), (13, 508)]\n",
      "neurons: \n",
      "[(13, 385), (13, 377), (13, 493), (13, 381), (13, 495), (13, 82), (13, 383), (13, 382), (13, 99), (13, 101)]\n",
      "neurons: \n",
      "[(13, 402), (13, 502), (13, 101), (13, 503), (13, 81), (13, 505), (13, 407), (13, 401), (13, 82), (13, 99)]\n",
      "neurons: \n",
      "[(13, 496), (13, 495), (13, 381), (13, 382), (13, 383), (13, 361), (13, 101), (13, 82), (13, 99), (13, 407)]\n",
      "neurons: \n",
      "[(13, 361), (13, 401), (13, 101), (13, 356), (13, 99), (13, 82), (13, 355), (13, 353), (13, 351), (13, 407)]\n",
      "neurons: \n",
      "[(13, 399), (13, 497), (13, 398), (13, 325), (13, 82), (13, 326), (13, 101), (13, 327), (13, 407), (13, 99)]\n",
      "neurons: \n",
      "[(13, 337), (13, 402), (13, 340), (13, 112), (13, 407), (13, 111), (13, 101), (13, 99), (13, 339), (13, 379)]\n",
      "neurons: \n",
      "[(13, 377), (13, 403), (13, 325), (13, 99), (13, 82), (13, 214), (13, 501), (13, 404), (13, 381), (13, 407)]\n",
      "neurons: \n",
      "[(13, 503), (13, 502), (13, 386), (13, 383), (13, 385), (13, 384), (13, 82), (13, 101), (13, 407), (13, 99)]\n",
      "neurons: \n",
      "[(13, 376), (13, 375), (13, 389), (13, 372), (13, 381), (13, 377), (13, 214), (13, 407), (13, 82), (13, 99)]\n",
      "neurons: \n",
      "[(13, 370), (13, 407), (13, 372), (13, 381), (13, 377), (13, 376), (13, 82), (13, 375), (13, 373), (13, 99)]\n",
      "neurons: \n",
      "[(13, 370), (13, 407), (13, 372), (13, 381), (13, 377), (13, 376), (13, 82), (13, 375), (13, 373), (13, 99)]\n",
      "neurons: \n",
      "[(13, 360), (13, 104), (13, 359), (13, 365), (13, 99), (13, 364), (13, 361), (13, 362), (13, 82), (13, 407)]\n",
      "neurons: \n",
      "[(13, 355), (13, 351), (13, 348), (13, 349), (13, 359), (13, 353), (13, 358), (13, 99), (13, 356), (13, 96)]\n",
      "neurons: \n",
      "[(13, 492), (13, 220), (13, 490), (13, 99), (13, 92), (13, 91), (13, 484), (13, 221), (13, 89), (13, 369)]\n",
      "neurons: \n",
      "[(13, 381), (13, 89), (13, 383), (13, 360), (13, 502), (13, 382), (13, 501), (13, 395), (13, 99), (13, 373)]\n",
      "neurons: \n",
      "[(13, 503), (13, 500), (13, 499), (13, 501), (13, 327), (13, 326), (13, 397), (13, 325), (13, 82), (13, 498)]\n",
      "neurons: \n",
      "[(13, 500), (13, 502), (13, 501), (13, 327), (13, 326), (13, 99), (13, 397), (13, 325), (13, 82), (13, 498)]\n",
      "neurons: \n",
      "[(13, 360), (13, 358), (13, 120), (13, 364), (13, 361), (13, 362), (13, 429), (13, 82), (13, 428), (13, 408)]\n",
      "neurons: \n",
      "[(13, 361), (13, 121), (13, 364), (13, 428), (13, 117), (13, 362), (13, 429), (13, 82), (13, 115), (13, 377)]\n",
      "neurons: \n",
      "[(13, 364), (13, 359), (13, 358), (13, 355), (13, 356), (13, 353), (13, 361), (13, 360), (13, 427), (13, 107)]\n",
      "neurons: \n",
      "[(13, 388), (13, 328), (13, 330), (13, 499), (13, 326), (13, 325), (13, 214), (13, 389), (13, 500), (13, 498)]\n",
      "neurons: \n",
      "[(13, 31), (13, 83), (13, 107), (13, 328), (13, 82), (13, 220), (13, 325), (13, 326), (13, 327), (13, 98)]\n",
      "neurons: \n",
      "[(13, 348), (13, 343), (13, 340), (13, 214), (13, 349), (13, 121), (13, 339), (13, 338), (13, 122), (13, 365)]\n",
      "neurons: \n",
      "[(13, 355), (13, 351), (13, 348), (13, 349), (13, 346), (13, 353), (13, 358), (13, 356), (13, 508), (13, 503)]\n",
      "neurons: \n",
      "[(13, 356), (13, 355), (13, 351), (13, 353), (13, 349), (13, 360), (13, 358), (13, 359), (13, 508), (13, 100)]\n",
      "neurons: \n",
      "[(13, 356), (13, 353), (13, 349), (13, 351), (13, 360), (13, 355), (13, 508), (13, 358), (13, 359), (13, 98)]\n",
      "neurons: \n",
      "[(13, 498), (13, 372), (13, 382), (13, 381), (13, 377), (13, 376), (13, 375), (13, 508), (13, 373), (13, 81)]\n",
      "neurons: \n",
      "[(13, 336), (13, 335), (13, 394), (13, 393), (13, 508), (13, 382), (13, 491), (13, 372), (13, 492), (13, 94)]\n",
      "neurons: \n",
      "[(13, 384), (13, 381), (13, 498), (13, 385), (13, 383), (13, 372), (13, 508), (13, 382), (13, 113), (13, 505)]\n",
      "neurons: \n",
      "[(13, 402), (13, 401), (13, 400), (13, 120), (13, 405), (13, 508), (13, 404), (13, 372), (13, 403), (13, 95)]\n",
      "neurons: \n",
      "[(13, 498), (13, 500), (13, 402), (13, 401), (13, 400), (13, 399), (13, 372), (13, 508), (13, 110), (13, 328)]\n",
      "neurons: \n",
      "[(13, 96), (13, 95), (13, 92), (13, 394), (13, 94), (13, 393), (13, 508), (13, 110), (13, 372), (13, 382)]\n",
      "neurons: \n",
      "[(13, 96), (13, 95), (13, 92), (13, 394), (13, 94), (13, 393), (13, 508), (13, 110), (13, 372), (13, 382)]\n",
      "neurons: \n",
      "[(13, 429), (13, 327), (13, 427), (13, 382), (13, 113), (13, 508), (13, 104), (13, 372), (13, 110), (13, 325)]\n",
      "neurons: \n",
      "[(13, 329), (13, 327), (13, 330), (13, 346), (13, 328), (13, 411), (13, 382), (13, 372), (13, 429), (13, 508)]\n",
      "neurons: \n",
      "[(13, 95), (13, 98), (13, 92), (13, 91), (13, 382), (13, 372), (13, 89), (13, 88), (13, 87), (13, 327)]\n",
      "neurons: \n",
      "[(13, 336), (13, 338), (13, 491), (13, 394), (13, 393), (13, 337), (13, 382), (13, 372), (13, 490), (13, 348)]\n",
      "neurons: \n",
      "[(13, 330), (13, 333), (13, 406), (13, 408), (13, 346), (13, 411), (13, 382), (13, 329), (13, 328), (13, 372)]\n",
      "neurons: \n",
      "[(13, 114), (13, 115), (13, 325), (13, 113), (13, 427), (13, 112), (13, 111), (13, 386), (13, 511), (13, 89)]\n",
      "neurons: \n",
      "[(13, 398), (13, 498), (13, 395), (13, 495), (13, 496), (13, 497), (13, 372), (13, 382), (13, 396), (13, 329)]\n",
      "neurons: \n",
      "[(13, 96), (13, 87), (13, 92), (13, 382), (13, 385), (13, 89), (13, 220), (13, 91), (13, 384), (13, 372)]\n",
      "neurons: \n",
      "[(13, 96), (13, 491), (13, 492), (13, 95), (13, 94), (13, 92), (13, 91), (13, 490), (13, 372), (13, 382)]\n",
      "neurons: \n",
      "[(13, 495), (13, 391), (13, 501), (13, 397), (13, 382), (13, 396), (13, 395), (13, 394), (13, 336), (13, 335)]\n",
      "neurons: \n",
      "[(13, 502), (13, 383), (13, 329), (13, 388), (13, 384), (13, 503), (13, 386), (13, 387), (13, 382), (13, 385)]\n",
      "neurons: \n",
      "[(13, 393), (13, 117), (13, 396), (13, 382), (13, 500), (13, 395), (13, 87), (13, 394), (13, 335), (13, 334)]\n",
      "neurons: \n",
      "[(13, 375), (13, 112), (13, 334), (13, 400), (13, 408), (13, 373), (13, 502), (13, 115), (13, 325), (13, 382)]\n",
      "neurons: \n",
      "[(13, 365), (13, 387), (13, 326), (13, 493), (13, 386), (13, 335), (13, 382), (13, 83), (13, 104), (13, 372)]\n",
      "neurons: \n",
      "[(13, 364), (13, 491), (13, 404), (13, 365), (13, 360), (13, 382), (13, 489), (13, 362), (13, 361), (13, 372)]\n",
      "neurons: \n",
      "[(13, 498), (13, 393), (13, 394), (13, 396), (13, 395), (13, 391), (13, 358), (13, 382), (13, 511), (13, 360)]\n",
      "neurons: \n",
      "[(13, 396), (13, 498), (13, 501), (13, 329), (13, 399), (13, 328), (13, 500), (13, 327), (13, 382), (13, 372)]\n",
      "neurons: \n",
      "[(13, 383), (13, 387), (13, 370), (13, 376), (13, 382), (13, 375), (13, 373), (13, 372), (13, 505), (13, 81)]\n",
      "neurons: \n",
      "[(13, 503), (13, 115), (13, 112), (13, 382), (13, 493), (13, 381), (13, 372), (13, 326), (13, 113), (13, 356)]\n",
      "neurons: \n",
      "[(13, 360), (13, 358), (13, 355), (13, 356), (13, 353), (13, 359), (13, 362), (13, 372), (13, 361), (13, 382)]\n",
      "neurons: \n",
      "[(13, 381), (13, 325), (13, 388), (13, 505), (13, 384), (13, 385), (13, 386), (13, 373), (13, 372), (13, 382)]\n",
      "neurons: \n",
      "[(13, 381), (13, 327), (13, 329), (13, 506), (13, 325), (13, 382), (13, 505), (13, 383), (13, 384), (13, 405)]\n",
      "neurons: \n",
      "[(13, 365), (13, 406), (13, 493), (13, 360), (13, 364), (13, 382), (13, 491), (13, 362), (13, 361), (13, 372)]\n",
      "neurons: \n",
      "[(13, 388), (13, 377), (13, 386), (13, 381), (13, 384), (13, 383), (13, 382), (13, 214), (13, 372), (13, 107)]\n",
      "neurons: \n",
      "[(13, 492), (13, 381), (13, 490), (13, 495), (13, 377), (13, 376), (13, 382), (13, 375), (13, 493), (13, 372)]\n",
      "neurons: \n",
      "[(13, 393), (13, 384), (13, 385), (13, 372), (13, 89), (13, 389), (13, 388), (13, 387), (13, 386), (13, 502)]\n",
      "neurons: \n",
      "[(13, 496), (13, 398), (13, 497), (13, 493), (13, 372), (13, 510), (13, 399), (13, 382), (13, 400), (13, 346)]\n",
      "neurons: \n",
      "[(13, 338), (13, 98), (13, 400), (13, 394), (13, 372), (13, 339), (13, 396), (13, 395), (13, 489), (13, 349)]\n",
      "neurons: \n",
      "[(13, 360), (13, 358), (13, 355), (13, 356), (13, 353), (13, 359), (13, 362), (13, 372), (13, 361), (13, 382)]\n",
      "neurons: \n",
      "[(13, 384), (13, 106), (13, 498), (13, 385), (13, 381), (13, 107), (13, 340), (13, 382), (13, 401), (13, 372)]\n",
      "neurons: \n",
      "[(13, 401), (13, 337), (13, 382), (13, 336), (13, 335), (13, 334), (13, 400), (13, 333), (13, 372), (13, 88)]\n",
      "neurons: \n",
      "[(13, 386), (13, 388), (13, 501), (13, 381), (13, 372), (13, 502), (13, 385), (13, 384), (13, 383), (13, 360)]\n",
      "neurons: \n",
      "[(13, 31), (13, 510), (13, 369), (13, 505), (13, 359), (13, 398), (13, 338), (13, 370), (13, 376), (13, 395)]\n",
      "neurons: \n",
      "[(13, 91), (13, 351), (13, 361), (13, 355), (13, 356), (13, 376), (13, 358), (13, 359), (13, 360), (13, 221)]\n",
      "neurons: \n",
      "[(13, 510), (13, 349), (13, 348), (13, 351), (13, 399), (13, 376), (13, 95), (13, 113), (13, 506), (13, 384)]\n",
      "neurons: \n",
      "[(13, 362), (13, 353), (13, 88), (13, 356), (13, 358), (13, 376), (13, 359), (13, 360), (13, 361), (13, 221)]\n",
      "neurons: \n",
      "[(13, 91), (13, 113), (13, 31), (13, 92), (13, 376), (13, 369), (13, 502), (13, 493), (13, 89), (13, 386)]\n",
      "neurons: \n",
      "[(13, 403), (13, 497), (13, 340), (13, 499), (13, 510), (13, 376), (13, 393), (13, 100), (13, 502), (13, 493)]\n",
      "neurons: \n",
      "[(13, 356), (13, 96), (13, 509), (13, 493), (13, 502), (13, 498), (13, 376), (13, 95), (13, 405), (13, 387)]\n",
      "neurons: \n",
      "[(13, 393), (13, 88), (13, 353), (13, 376), (13, 355), (13, 356), (13, 358), (13, 359), (13, 360), (13, 493)]\n",
      "neurons: \n",
      "[(13, 395), (13, 391), (13, 400), (13, 83), (13, 398), (19, 426), (13, 399), (13, 96), (13, 340), (13, 493)]\n",
      "neurons: \n",
      "[(13, 334), (13, 338), (19, 426), (13, 499), (13, 376), (13, 330), (13, 329), (13, 493), (13, 81), (13, 348)]\n",
      "neurons: \n",
      "[(13, 393), (13, 391), (13, 389), (13, 493), (13, 376), (19, 426), (13, 351), (13, 394), (13, 395), (13, 335)]\n",
      "neurons: \n",
      "[(13, 81), (13, 403), (13, 401), (13, 376), (19, 426), (13, 402), (13, 493), (13, 335), (19, 258), (13, 428)]\n",
      "neurons: \n",
      "[(13, 88), (19, 258), (13, 395), (13, 335), (13, 405), (13, 369), (13, 493), (13, 87), (19, 426), (13, 428)]\n",
      "neurons: \n",
      "[(13, 394), (13, 395), (13, 389), (19, 258), (13, 88), (13, 391), (19, 426), (13, 325), (13, 393), (13, 220)]\n",
      "neurons: \n",
      "[(13, 348), (13, 397), (13, 402), (13, 343), (19, 426), (13, 400), (13, 401), (19, 258), (13, 81), (13, 106)]\n",
      "neurons: \n",
      "[(13, 351), (13, 355), (13, 509), (13, 353), (13, 359), (13, 358), (19, 258), (13, 356), (13, 395), (13, 349)]\n",
      "neurons: \n",
      "[(13, 370), (13, 401), (13, 400), (13, 402), (13, 395), (13, 335), (13, 403), (13, 334), (13, 404), (13, 348)]\n",
      "neurons: \n",
      "[(13, 362), (13, 364), (13, 492), (13, 88), (13, 91), (13, 365), (13, 511), (13, 491), (19, 258), (13, 377)]\n",
      "neurons: \n",
      "[(13, 333), (13, 500), (13, 388), (19, 258), (13, 386), (13, 81), (13, 83), (13, 387), (13, 511), (13, 346)]\n",
      "neurons: \n",
      "[(13, 214), (13, 405), (13, 403), (13, 353), (13, 404), (13, 98), (13, 381), (13, 349), (13, 406), (13, 334)]\n",
      "count309\n",
      "Done\n"
     ]
    }
   ],
   "source": [
    "print('Fuzzing with adaptive parameterized strategy started at {}.'.format(datetime.now()))\n",
    "archives_adapt = [fuzzer.start(minutes=3, append='min_dist') for fuzzer in fuzzers_adapt]\n",
    "print('Done')"
   ]
  },
  {
   "cell_type": "code",
   "execution_count": 22,
   "metadata": {},
   "outputs": [
    {
     "name": "stdout",
     "output_type": "stream",
     "text": [
      "Fuzzing with random strategy started at 2024-10-12 22:11:05.925797.\n",
      "count380\n",
      "count359\n",
      "Done\n"
     ]
    }
   ],
   "source": [
    "print('Fuzzing with random strategy started at {}.'.format(datetime.now()))\n",
    "archives_rand = [fuzzer.start(minutes=3, append='min_dist') for fuzzer in fuzzers_rand]\n",
    "print('Done')"
   ]
  },
  {
   "cell_type": "markdown",
   "metadata": {},
   "source": [
    "### 4. Testing result\n",
    "Here is the coverage graph."
   ]
  },
  {
   "cell_type": "code",
   "execution_count": 58,
   "metadata": {},
   "outputs": [],
   "source": [
    "import numpy as np"
   ]
  },
  {
   "cell_type": "code",
   "execution_count": 28,
   "metadata": {},
   "outputs": [
    {
     "ename": "NameError",
     "evalue": "name 'archives_bayes' is not defined",
     "output_type": "error",
     "traceback": [
      "\u001b[1;31m---------------------------------------------------------------------------\u001b[0m",
      "\u001b[1;31mNameError\u001b[0m                                 Traceback (most recent call last)",
      "Cell \u001b[1;32mIn[28], line 8\u001b[0m\n\u001b[0;32m      6\u001b[0m \u001b[38;5;28;01mfor\u001b[39;00m t, cov \u001b[38;5;129;01min\u001b[39;00m archives_adapt[image_idx]\u001b[38;5;241m.\u001b[39mtimestamp:\n\u001b[0;32m      7\u001b[0m     coverage\u001b[38;5;241m.\u001b[39mappend(cov)\n\u001b[1;32m----> 8\u001b[0m plt\u001b[38;5;241m.\u001b[39mplot(times, coverage[:\u001b[38;5;28mlen\u001b[39m(\u001b[43marchives_bayes\u001b[49m[image_idx]\u001b[38;5;241m.\u001b[39mtimestamp)], label\u001b[38;5;241m=\u001b[39m\u001b[38;5;124m'\u001b[39m\u001b[38;5;124madapt\u001b[39m\u001b[38;5;124m'\u001b[39m)\n\u001b[0;32m     10\u001b[0m \u001b[38;5;66;03m#bayes \u001b[39;00m\n\u001b[0;32m     11\u001b[0m coverage \u001b[38;5;241m=\u001b[39m []\n",
      "\u001b[1;31mNameError\u001b[0m: name 'archives_bayes' is not defined"
     ]
    }
   ],
   "source": [
    "image_idx = 1\n",
    "times = range(len(archives_bayes[image_idx].timestamp))\n",
    "# adapt\n",
    "coverage = []\n",
    "for t, cov in archives_adapt[image_idx].timestamp:\n",
    "    coverage.append(cov)\n",
    "plt.plot(times, coverage[:len(archives_bayes[image_idx].timestamp)], label='adapt')\n",
    "\n",
    "#bayes \n",
    "coverage = []\n",
    "for t, cov in archives_rand[image_idx].timestamp:\n",
    "    coverage.append(cov)\n",
    "plt.plot(times, coverage[:len(archives_bayes[image_idx].timestamp)], label='random')\n",
    "\n",
    "#bayes \n",
    "# coverage = []\n",
    "# for t, cov in archives_bayes[image_idx].timestamp:\n",
    "#     coverage.append(cov)\n",
    "# plt.plot(times, coverage[:len(archives_bayes[image_idx].timestamp)], label='bayes')\n",
    "\n",
    "plt.suptitle('VGG16')\n",
    "plt.legend()\n",
    "plt.show()"
   ]
  },
  {
   "cell_type": "code",
   "execution_count": 28,
   "metadata": {},
   "outputs": [
    {
     "data": {
      "image/png": "[encoded data removed]",
      "text/plain": [
       "<Figure size 640x480 with 1 Axes>"
      ]
     },
     "metadata": {},
     "output_type": "display_data"
    }
   ],
   "source": [
    "image_idx = 0\n",
    "times = range(200)\n",
    "# adapt\n",
    "coverage = []\n",
    "for t, cov in archives_adapt[image_idx].timestamp:\n",
    "    coverage.append(cov)\n",
    "plt.plot(times, coverage[:200], label='adapt')\n",
    "\n",
    "#bayes \n",
    "coverage = []\n",
    "for t, cov in archives_rand[image_idx].timestamp:\n",
    "    coverage.append(cov)\n",
    "plt.plot(times, coverage[:200], label='random')\n",
    "\n",
    "#bayes \n",
    "# coverage = []\n",
    "# for t, cov in archives_bayes[image_idx].timestamp:\n",
    "#     coverage.append(cov)\n",
    "# plt.plot(times, coverage[:len(archives_bayes[image_idx].timestamp)], label='bayes')\n",
    "\n",
    "plt.suptitle('VGG16')\n",
    "plt.legend()\n",
    "plt.show()"
   ]
  },
  {
   "cell_type": "code",
   "execution_count": 27,
   "metadata": {},
   "outputs": [
    {
     "ename": "StopIteration",
     "evalue": "",
     "output_type": "error",
     "traceback": [
      "\u001b[1;31m---------------------------------------------------------------------------\u001b[0m",
      "\u001b[1;31mStopIteration\u001b[0m                             Traceback (most recent call last)",
      "Cell \u001b[1;32mIn[27], line 9\u001b[0m\n\u001b[0;32m      7\u001b[0m \u001b[38;5;28;01mfor\u001b[39;00m current_t \u001b[38;5;129;01min\u001b[39;00m times:\n\u001b[0;32m      8\u001b[0m     \u001b[38;5;28;01mwhile\u001b[39;00m current_t \u001b[38;5;241m>\u001b[39m t:\n\u001b[1;32m----> 9\u001b[0m         t, cov \u001b[38;5;241m=\u001b[39m \u001b[38;5;28;43mnext\u001b[39;49m\u001b[43m(\u001b[49m\u001b[43mtimestamp\u001b[49m\u001b[43m)\u001b[49m\n\u001b[0;32m     10\u001b[0m     coverage\u001b[38;5;241m.\u001b[39mappend(cov)\n\u001b[0;32m     11\u001b[0m coverages\u001b[38;5;241m.\u001b[39mappend(coverage)\n",
      "\u001b[1;31mStopIteration\u001b[0m: "
     ]
    }
   ],
   "source": [
    "times = list(range(50))\n",
    "coverages = []\n",
    "for archive in archives_adapt:\n",
    "    coverage = []\n",
    "    timestamp = iter(archive.timestamp)\n",
    "    t, cov = next(timestamp)\n",
    "    for current_t in times:\n",
    "        while current_t > t:\n",
    "            t, cov = next(timestamp)\n",
    "        coverage.append(cov)\n",
    "    coverages.append(coverage)\n",
    "coverages = np.mean(coverages, axis=0)\n",
    "plt.plot(times, coverages, label='adapt')\n",
    "coverages = []\n",
    "for archive in archives_rand:\n",
    "    coverage = []\n",
    "    timestamp = iter(archive.timestamp)\n",
    "    t, cov = next(timestamp)\n",
    "    for current_t in times:\n",
    "        while current_t > t:\n",
    "            t, cov = next(timestamp)\n",
    "        coverage.append(cov)\n",
    "    coverages.append(coverage)\n",
    "coverages = np.mean(coverages, axis=0)\n",
    "print(len(coverages))\n",
    "plt.plot(times, coverages, label='rand')\n",
    "plt.suptitle('vgg19')\n",
    "plt.legend()\n",
    "plt.show()"
   ]
  },
  {
   "cell_type": "code",
   "execution_count": null,
   "metadata": {},
   "outputs": [],
   "source": []
  },
  {
   "cell_type": "markdown",
   "metadata": {},
   "source": [
    "Archive classes stores all the testing result. You can easily see the testing result by following command."
   ]
  },
  {
   "cell_type": "code",
   "execution_count": 26,
   "metadata": {},
   "outputs": [
    {
     "name": "stdout",
     "output_type": "stream",
     "text": [
      "----------\n",
      "Total inputs: 254\n",
      "  Average distance: 0.23280003666877747\n",
      "Total adversarials: 96\n",
      "  Average distance: 0.25939345359802246\n",
      "Error rate: \n",
      "0.3779527559055118\n",
      "Coverage\n",
      "  Original: 0.028083209509658247\n",
      "  Achieved: 0.09717682020802378\n",
      "----------\n",
      "Original label: 6\n",
      "  Count: 158\n",
      "  Average distance: 0.21664202213287354\n",
      "----------\n",
      "Label: 2\n",
      "  Count: 5\n",
      "  Average distance: 0.25882530212402344\n",
      "----------\n",
      "Label: 3\n",
      "  Count: 48\n",
      "  Average distance: 0.27409827709198\n",
      "----------\n",
      "Label: 1\n",
      "  Count: 40\n",
      "  Average distance: 0.23804569244384766\n",
      "----------\n",
      "Label: 5\n",
      "  Count: 2\n",
      "  Average distance: 0.326276957988739\n",
      "----------\n",
      "Label: 4\n",
      "  Count: 1\n",
      "  Average distance: 0.27654406428337097\n",
      "----------\n"
     ]
    }
   ],
   "source": [
    "archives_adapt[0].summary()"
   ]
  },
  {
   "cell_type": "code",
   "execution_count": 21,
   "metadata": {},
   "outputs": [
    {
     "name": "stdout",
     "output_type": "stream",
     "text": [
      "----------\n",
      "Total inputs: 200\n",
      "  Average distance: 4.08088411670268e-23\n",
      "Total adversarials: 0\n",
      "  Average distance: -\n",
      "Error rate: \n",
      "0.0\n",
      "Coverage\n",
      "  Original: 0.3548225260253355\n",
      "  Achieved: 0.3548225260253355\n",
      "----------\n",
      "Original label: 0\n",
      "  Count: 200\n",
      "  Average distance: 4.08088411670268e-23\n",
      "----------\n"
     ]
    }
   ],
   "source": [
    "archives_bayes[1].summary()"
   ]
  },
  {
   "cell_type": "code",
   "execution_count": 33,
   "metadata": {},
   "outputs": [
    {
     "name": "stdout",
     "output_type": "stream",
     "text": [
      "----------\n",
      "Total inputs: 478\n",
      "  Average distance: 0.17556080222129822\n",
      "Total adversarials: 390\n",
      "  Average distance: 0.18419882655143738\n",
      "Error rate: \n",
      "0.8158995815899581\n",
      "Coverage\n",
      "  Original: 0.10520059435364042\n",
      "  Achieved: 0.41426448736998517\n",
      "----------\n",
      "Original label: 3\n",
      "  Count: 88\n",
      "  Average distance: 0.13727857172489166\n",
      "----------\n",
      "Label: 6\n",
      "  Count: 139\n",
      "  Average distance: 0.17060969769954681\n",
      "----------\n",
      "Label: 8\n",
      "  Count: 58\n",
      "  Average distance: 0.17388881742954254\n",
      "----------\n",
      "Label: 5\n",
      "  Count: 88\n",
      "  Average distance: 0.17810828983783722\n",
      "----------\n",
      "Label: 9\n",
      "  Count: 9\n",
      "  Average distance: 0.19255012273788452\n",
      "----------\n",
      "Label: 1\n",
      "  Count: 50\n",
      "  Average distance: 0.20463331043720245\n",
      "----------\n",
      "Label: 0\n",
      "  Count: 25\n",
      "  Average distance: 0.2048315405845642\n",
      "----------\n",
      "Label: 7\n",
      "  Count: 16\n",
      "  Average distance: 0.2679970860481262\n",
      "----------\n",
      "Label: 2\n",
      "  Count: 4\n",
      "  Average distance: 0.20649650692939758\n",
      "----------\n",
      "Label: 4\n",
      "  Count: 1\n",
      "  Average distance: 0.1643681824207306\n",
      "----------\n"
     ]
    }
   ],
   "source": [
    "archives_rand[0].summary()"
   ]
  },
  {
   "cell_type": "markdown",
   "metadata": {},
   "source": [
    "Plus, the following is a visualization of some generated images."
   ]
  },
  {
   "cell_type": "code",
   "execution_count": 119,
   "metadata": {},
   "outputs": [
    {
     "name": "stdout",
     "output_type": "stream",
     "text": [
      "----------\n",
      "Total inputs: 764\n",
      "  Average distance: 0.011514723300933838\n",
      "Total adversarials: 0\n",
      "  Average distance: -\n",
      "Coverage\n",
      "  Original: 0.04562236286919831\n",
      "  Achieved: 0.08122362869198312\n",
      "----------\n",
      "Original label: house_finch\n",
      "  Count: 764\n",
      "  Average distance: 0.011514723300933838\n",
      "----------\n",
      "----------\n",
      "Total inputs: 796\n",
      "  Average distance: 0.028308581560850143\n",
      "Total adversarials: 110\n",
      "  Average distance: 0.05663487687706947\n",
      "Coverage\n",
      "  Original: 0.045490506329113924\n",
      "  Achieved: 0.084915611814346\n",
      "----------\n",
      "Original label: Pomeranian\n",
      "  Count: 686\n",
      "  Average distance: 0.02376646175980568\n",
      "----------\n",
      "Label: cairn\n",
      "  Count: 110\n",
      "  Average distance: 0.05663487687706947\n",
      "----------\n"
     ]
    }
   ],
   "source": [
    "for i, label in enumerate(archives_adapt):\n",
    "    archives_adapt[i].summary()"
   ]
  },
  {
   "cell_type": "code",
   "execution_count": 118,
   "metadata": {},
   "outputs": [
    {
     "data": {
      "text/plain": [
       "2"
      ]
     },
     "execution_count": 118,
     "metadata": {},
     "output_type": "execute_result"
    }
   ],
   "source": [
    "len(archives_adapt[1].found_labels)"
   ]
  },
  {
   "cell_type": "code",
   "execution_count": 48,
   "metadata": {},
   "outputs": [
    {
     "data": {
      "text/plain": [
       "array([[[[0.6200982 , 0.4383222 , 0.18988357],\n",
       "         [0.6345563 , 0.44539675, 0.19028227],\n",
       "         [0.65835994, 0.4626302 , 0.20284364],\n",
       "         ...,\n",
       "         [0.53556097, 0.3729905 , 0.13783184],\n",
       "         [0.49530113, 0.36121395, 0.14184038],\n",
       "         [0.45458096, 0.3350895 , 0.12917802]],\n",
       "\n",
       "        [[0.6015227 , 0.4409732 , 0.20015568],\n",
       "         [0.61081797, 0.44530654, 0.16523474],\n",
       "         [0.63899565, 0.45389298, 0.1762518 ],\n",
       "         ...,\n",
       "         [0.5329128 , 0.37441772, 0.11703984],\n",
       "         [0.49470586, 0.36650088, 0.1284048 ],\n",
       "         [0.46691695, 0.3488622 , 0.13342805]],\n",
       "\n",
       "        [[0.5864294 , 0.41473857, 0.16837835],\n",
       "         [0.5951103 , 0.41504252, 0.11465082],\n",
       "         [0.62792933, 0.42614734, 0.12717369],\n",
       "         ...,\n",
       "         [0.5408855 , 0.3778127 , 0.12050469],\n",
       "         [0.51045793, 0.37722287, 0.1296122 ],\n",
       "         [0.46877742, 0.35089093, 0.12628707]],\n",
       "\n",
       "        ...,\n",
       "\n",
       "        [[0.26979488, 0.494221  , 0.69483596],\n",
       "         [0.16700912, 0.40173027, 0.5758732 ],\n",
       "         [0.10855748, 0.34445095, 0.51461655],\n",
       "         ...,\n",
       "         [0.13538027, 0.36923224, 0.5773237 ],\n",
       "         [0.04612852, 0.25727874, 0.43702808],\n",
       "         [0.15820074, 0.3427245 , 0.5103756 ]],\n",
       "\n",
       "        [[0.2424935 , 0.46151328, 0.6619616 ],\n",
       "         [0.19854724, 0.41134322, 0.58489573],\n",
       "         [0.13122168, 0.33492556, 0.5076207 ],\n",
       "         ...,\n",
       "         [0.11212038, 0.34186995, 0.53891844],\n",
       "         [0.12473624, 0.3451243 , 0.5210773 ],\n",
       "         [0.07973009, 0.2587557 , 0.429348  ]],\n",
       "\n",
       "        [[0.21019311, 0.41857487, 0.62554616],\n",
       "         [0.2181977 , 0.411426  , 0.5818914 ],\n",
       "         [0.16810602, 0.34278554, 0.5070858 ],\n",
       "         ...,\n",
       "         [0.09165507, 0.30267563, 0.4916203 ],\n",
       "         [0.1337438 , 0.33481565, 0.5129912 ],\n",
       "         [0.07954609, 0.26195174, 0.4317467 ]]]], dtype=float32)"
      ]
     },
     "execution_count": 48,
     "metadata": {},
     "output_type": "execute_result"
    }
   ],
   "source": [
    "archives_adapt[0].inputs[5][0]"
   ]
  },
  {
   "cell_type": "code",
   "execution_count": 42,
   "metadata": {},
   "outputs": [
    {
     "data": {
      "image/png": "[encoded data removed]",
      "text/plain": [
       "<Figure size 800x400 with 2 Axes>"
      ]
     },
     "metadata": {},
     "output_type": "display_data"
    }
   ],
   "source": [
    "imageIDX = 0\n",
    "fig, ax = plt.subplots(1, len(archives_adapt[imageIDX].found_labels), figsize=(len(archives_adapt[imageIDX].found_labels) * 4, 4))\n",
    "\n",
    "if len(archives_adapt[imageIDX].found_labels) == 1:\n",
    "    ax = [ax]\n",
    "\n",
    "for i, label in enumerate(archives_adapt[imageIDX].found_labels.keys()):\n",
    "    ax[i].set_axis_off()\n",
    "    ax[i].title.set_text(str(label))\n",
    "    # ax[i].set_title(class_labels[labels[imageIDX][0]])\n",
    "\n",
    "    # Remove extra dimension using squeeze()\n",
    "    im = np.array(archives_adapt[imageIDX].inputs[label][0]).squeeze()\n",
    "    im = (im * 255).clip(0, 255)  # Rescale if values are between 0 and 1\n",
    "    ax[i].imshow(im.astype(int))\n",
    "\n",
    "    ax[i].imshow(im.astype(int))\n",
    "\n",
    "plt.show()\n"
   ]
  },
  {
   "cell_type": "code",
   "execution_count": 28,
   "metadata": {},
   "outputs": [
    {
     "data": {
      "image/png": "[encoded data removed]",
      "text/plain": [
       "<Figure size 800x400 with 2 Axes>"
      ]
     },
     "metadata": {},
     "output_type": "display_data"
    }
   ],
   "source": [
    "imageIDX = 0\n",
    "fig, ax = plt.subplots(1, len(archives_bayes[imageIDX].found_labels), figsize=(len(archives_bayes[imageIDX].found_labels) * 4, 4))\n",
    "\n",
    "if len(archives_bayes[imageIDX].found_labels) == 1:\n",
    "    ax = [ax]\n",
    "\n",
    "for i, label in enumerate(archives_bayes[imageIDX].found_labels.keys()):\n",
    "    ax[i].set_axis_off()\n",
    "    ax[i].title.set_text(str(label))\n",
    "\n",
    "    # Remove extra dimension using squeeze()\n",
    "    im = np.array(archives_bayes[imageIDX].inputs[label][0]).squeeze()\n",
    "    im = (im * 255).clip(0, 255)  # Rescale if values are between 0 and 1\n",
    "    ax[i].imshow(im.astype(int))\n",
    "\n",
    "\n",
    "    ax[i].imshow(im.astype(int))\n",
    "\n",
    "plt.show()\n"
   ]
  },
  {
   "cell_type": "code",
   "execution_count": 45,
   "metadata": {},
   "outputs": [
    {
     "data": {
      "text/plain": [
       "(1, 32, 32, 3)"
      ]
     },
     "execution_count": 45,
     "metadata": {},
     "output_type": "execute_result"
    }
   ],
   "source": [
    "archives_adapt[0].inputs[3][0].shape"
   ]
  },
  {
   "cell_type": "code",
   "execution_count": 30,
   "metadata": {},
   "outputs": [
    {
     "name": "stdout",
     "output_type": "stream",
     "text": [
      "The average MSE of Adapt is: \n",
      "0.0012435907626507986\n"
     ]
    }
   ],
   "source": [
    "overallMSE = []\n",
    "# traverse all test images\n",
    "for image in range(len(archives_adapt)):\n",
    "    original_ssim = archives_adapt[image].mse\n",
    "    # filter the correct label image\n",
    "    filtered_ssim = [x for x in original_ssim if x != -1]\n",
    "    #  store avg SSIM for one image\n",
    "    overallMSE.append(np.mean(filtered_ssim))\n",
    "#  calculate avg SSIM for all images\n",
    "overallMSE = np.mean(overallMSE)\n",
    "print(\"The average MSE of Adapt is: \")\n",
    "print(overallMSE)"
   ]
  },
  {
   "cell_type": "code",
   "execution_count": 48,
   "metadata": {},
   "outputs": [
    {
     "name": "stdout",
     "output_type": "stream",
     "text": [
      "SSIM between the original and Adapt adversarial image: 6.779305809320056e-05\n"
     ]
    }
   ],
   "source": [
    "from skimage.metrics import structural_similarity as ssim\n",
    "import numpy as np\n",
    "\n",
    "# Ensure both images have the same shape\n",
    "originalImg = np.reshape(images[0], (32, 32, 3))\n",
    "generatedImg = np.reshape(archives_adapt[0].inputs[6][0], (32, 32, 3))\n",
    "\n",
    "# Calculate SSIM with an appropriate window size for 32x32 images\n",
    "score = ssim(originalImg, generatedImg, data_range=1.0, channel_axis=2, win_size=5)\n",
    "\n",
    "print(f\"SSIM between the original and Adapt adversarial image: {score}\")\n"
   ]
  },
  {
   "cell_type": "code",
   "execution_count": 21,
   "metadata": {},
   "outputs": [],
   "source": [
    "import pickle\n",
    "from datetime import datetime\n",
    "\n",
    "# Get the current time\n",
    "current_time = datetime.now().strftime('%Y-%m-%d_%H-%M-%S')\n",
    "\n",
    "# Create the file name with the current time\n",
    "file_name = f'CIFAR10_res_210_{current_time}'\n",
    "# open a file, where you ant to store the data\n",
    "file = open(file_name, 'wb')\n",
    "\n",
    "# dump information to that file\n",
    "pickle.dump(archives_bayes, file)\n",
    "\n",
    "# close the file\n",
    "file.close()"
   ]
  }
 ],
 "metadata": {
  "kernelspec": {
   "display_name": "pyCode",
   "language": "python",
   "name": "python3"
  },
  "language_info": {
   "codemirror_mode": {
    "name": "ipython",
    "version": 3
   },
   "file_extension": ".py",
   "mimetype": "text/x-python",
   "name": "python",
   "nbconvert_exporter": "python",
   "pygments_lexer": "ipython3",
   "version": "3.9.13"
  }
 },
 "nbformat": 4,
 "nbformat_minor": 2
}
